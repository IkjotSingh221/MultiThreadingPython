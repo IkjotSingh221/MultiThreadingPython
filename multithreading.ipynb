{
 "cells": [
  {
   "cell_type": "markdown",
   "metadata": {},
   "source": [
    "# Multi threading Assignment\n",
    "## Ikjot Singh\n",
    "## 102116071\n",
    "## 3CS11"
   ]
  },
  {
   "cell_type": "markdown",
   "metadata": {},
   "source": [
    "### Imports"
   ]
  },
  {
   "cell_type": "code",
   "execution_count": 1,
   "metadata": {},
   "outputs": [],
   "source": [
    "import numpy as np\n",
    "import pandas as pd\n",
    "import matplotlib.pyplot as plt\n",
    "import time\n",
    "import threading, multiprocessing"
   ]
  },
  {
   "cell_type": "markdown",
   "metadata": {},
   "source": [
    "### Random Matrix Generator of order 1k*1k"
   ]
  },
  {
   "cell_type": "code",
   "execution_count": 2,
   "metadata": {},
   "outputs": [],
   "source": [
    "def random_matrix():\n",
    "    return np.random.rand(1000, 1000)\n",
    "x=random_matrix()"
   ]
  },
  {
   "cell_type": "markdown",
   "metadata": {},
   "source": [
    "### Constant matrix of order 1k*1k\n",
    "*taking 2 x Identity matrix as the constant matrix for this case*"
   ]
  },
  {
   "cell_type": "code",
   "execution_count": 3,
   "metadata": {},
   "outputs": [],
   "source": [
    "y = np.eye(1000)\n",
    "y=y*2"
   ]
  },
  {
   "cell_type": "markdown",
   "metadata": {},
   "source": [
    "### Task Function: multiply matrices "
   ]
  },
  {
   "cell_type": "code",
   "execution_count": 4,
   "metadata": {},
   "outputs": [],
   "source": [
    "def multiply_matrix():\n",
    "    print(np.dot(random_matrix(), y))\n",
    "    return np.dot(random_matrix(), y)"
   ]
  },
  {
   "cell_type": "markdown",
   "metadata": {},
   "source": [
    "### Displaying number of cores and active threads"
   ]
  },
  {
   "cell_type": "code",
   "execution_count": 5,
   "metadata": {},
   "outputs": [
    {
     "name": "stdout",
     "output_type": "stream",
     "text": [
      "Num of cores are:  8\n",
      "Num of threads:  6\n"
     ]
    }
   ],
   "source": [
    "numberOfCores = multiprocessing.cpu_count()\n",
    "print (\"Num of cores are: \", numberOfCores)\n",
    "\n",
    "activeThread = threading.active_count()\n",
    "print (\"Num of threads: \",activeThread)"
   ]
  },
  {
   "cell_type": "markdown",
   "metadata": {},
   "source": [
    "### Parametrized function for Threading\n",
    "*takes number of threads as input and returns the time taken by the process*"
   ]
  },
  {
   "cell_type": "code",
   "execution_count": 6,
   "metadata": {},
   "outputs": [],
   "source": [
    "def threadfn(numberOfThreads):\n",
    "  startTime = time.time()\n",
    "  activeThreads = threading.active_count()\n",
    "  print(\"Program Started....\")\n",
    "  for i in range(100):\n",
    "      t = threading.Thread(target=random_matrix)\n",
    "      t.start()\n",
    "      while True:\n",
    "        if threading.active_count() - activeThreads + 1 <= numberOfThreads:\n",
    "          break\n",
    "        time.sleep(1)\n",
    "\n",
    "  while True:\n",
    "      if threading.active_count() == activeThreads:\n",
    "          break\n",
    "      else:\n",
    "          print (\"Thread still running (left %d)...\"%(threading.active_count() - activeThreads))\n",
    "          time.sleep(1)\n",
    "    \n",
    "  print(\"All Thread ends\")\n",
    "\n",
    "  print(\"Program Finished\")\n",
    "  print(\"Total Time %f sec\" % (round( time.time() - startTime,4)))\n",
    "  x=round( time.time() - startTime,4)\n",
    "  \n",
    "  return x  "
   ]
  },
  {
   "cell_type": "markdown",
   "metadata": {},
   "source": [
    "### Creating a dataframe to store results"
   ]
  },
  {
   "cell_type": "code",
   "execution_count": 7,
   "metadata": {},
   "outputs": [],
   "source": [
    "df = pd.DataFrame(columns=['threads', 'time'])\n",
    "def add_data(t, m):\n",
    "    df.loc[len(df)] = [t, m]\n",
    "    return df"
   ]
  },
  {
   "cell_type": "markdown",
   "metadata": {},
   "source": [
    "### Running the code for threads 1 to 8"
   ]
  },
  {
   "cell_type": "code",
   "execution_count": 8,
   "metadata": {},
   "outputs": [
    {
     "name": "stdout",
     "output_type": "stream",
     "text": [
      "Program Started....\n",
      "All Thread ends\n",
      "Program Finished\n",
      "Total Time 100.125100 sec\n",
      "Program Started....\n",
      "All Thread ends\n",
      "Program Finished\n",
      "Total Time 50.091800 sec\n",
      "Program Started....\n",
      "Thread still running (left 1)...\n",
      "All Thread ends\n",
      "Program Finished\n",
      "Total Time 34.070500 sec\n",
      "Program Started....\n",
      "All Thread ends\n",
      "Program Finished\n",
      "Total Time 25.062600 sec\n",
      "Program Started....\n",
      "All Thread ends\n",
      "Program Finished\n",
      "Total Time 20.051500 sec\n",
      "Program Started....\n",
      "Thread still running (left 4)...\n",
      "All Thread ends\n",
      "Program Finished\n",
      "Total Time 17.051300 sec\n",
      "Program Started....\n",
      "Thread still running (left 2)...\n",
      "All Thread ends\n",
      "Program Finished\n",
      "Total Time 15.050800 sec\n",
      "Program Started....\n",
      "Thread still running (left 4)...\n",
      "All Thread ends\n",
      "Program Finished\n",
      "Total Time 13.043000 sec\n"
     ]
    }
   ],
   "source": [
    "for i in range(1,9):\n",
    "    t=threadfn(i)\n",
    "    add_data(i, int(t))"
   ]
  },
  {
   "cell_type": "markdown",
   "metadata": {},
   "source": [
    "### Displaying Results"
   ]
  },
  {
   "cell_type": "code",
   "execution_count": 9,
   "metadata": {},
   "outputs": [
    {
     "data": {
      "text/html": [
       "<div>\n",
       "<style scoped>\n",
       "    .dataframe tbody tr th:only-of-type {\n",
       "        vertical-align: middle;\n",
       "    }\n",
       "\n",
       "    .dataframe tbody tr th {\n",
       "        vertical-align: top;\n",
       "    }\n",
       "\n",
       "    .dataframe thead th {\n",
       "        text-align: right;\n",
       "    }\n",
       "</style>\n",
       "<table border=\"1\" class=\"dataframe\">\n",
       "  <thead>\n",
       "    <tr style=\"text-align: right;\">\n",
       "      <th></th>\n",
       "      <th>threads</th>\n",
       "      <th>time</th>\n",
       "    </tr>\n",
       "  </thead>\n",
       "  <tbody>\n",
       "    <tr>\n",
       "      <th>0</th>\n",
       "      <td>1</td>\n",
       "      <td>100</td>\n",
       "    </tr>\n",
       "    <tr>\n",
       "      <th>1</th>\n",
       "      <td>2</td>\n",
       "      <td>50</td>\n",
       "    </tr>\n",
       "    <tr>\n",
       "      <th>2</th>\n",
       "      <td>3</td>\n",
       "      <td>34</td>\n",
       "    </tr>\n",
       "    <tr>\n",
       "      <th>3</th>\n",
       "      <td>4</td>\n",
       "      <td>25</td>\n",
       "    </tr>\n",
       "    <tr>\n",
       "      <th>4</th>\n",
       "      <td>5</td>\n",
       "      <td>20</td>\n",
       "    </tr>\n",
       "    <tr>\n",
       "      <th>5</th>\n",
       "      <td>6</td>\n",
       "      <td>17</td>\n",
       "    </tr>\n",
       "    <tr>\n",
       "      <th>6</th>\n",
       "      <td>7</td>\n",
       "      <td>15</td>\n",
       "    </tr>\n",
       "    <tr>\n",
       "      <th>7</th>\n",
       "      <td>8</td>\n",
       "      <td>13</td>\n",
       "    </tr>\n",
       "  </tbody>\n",
       "</table>\n",
       "</div>"
      ],
      "text/plain": [
       "   threads  time\n",
       "0        1   100\n",
       "1        2    50\n",
       "2        3    34\n",
       "3        4    25\n",
       "4        5    20\n",
       "5        6    17\n",
       "6        7    15\n",
       "7        8    13"
      ]
     },
     "execution_count": 9,
     "metadata": {},
     "output_type": "execute_result"
    }
   ],
   "source": [
    "df"
   ]
  },
  {
   "cell_type": "markdown",
   "metadata": {},
   "source": [
    "### Plotting the results"
   ]
  },
  {
   "cell_type": "code",
   "execution_count": 10,
   "metadata": {},
   "outputs": [
    {
     "data": {
      "image/png": "[encoded data removed]",
      "text/plain": [
       "<Figure size 640x480 with 1 Axes>"
      ]
     },
     "metadata": {},
     "output_type": "display_data"
    }
   ],
   "source": [
    "plt.plot(df['threads'], df['time'], marker='o', color='r', label='Time taken vs Number of threads')\n",
    "plt.xlabel('Number of threads')\n",
    "plt.ylabel('Time taken (s)')\n",
    "plt.title('Execution Time')\n",
    "plt.show()"
   ]
  }
 ],
 "metadata": {
  "kernelspec": {
   "display_name": "Python 3",
   "language": "python",
   "name": "python3"
  },
  "language_info": {
   "codemirror_mode": {
    "name": "ipython",
    "version": 3
   },
   "file_extension": ".py",
   "mimetype": "text/x-python",
   "name": "python",
   "nbconvert_exporter": "python",
   "pygments_lexer": "ipython3",
   "version": "3.11.4"
  }
 },
 "nbformat": 4,
 "nbformat_minor": 2
}
